{
  "nbformat": 4,
  "nbformat_minor": 0,
  "metadata": {
    "colab": {
      "provenance": [],
      "authorship_tag": "ABX9TyM2jwxjXRTaEGyJl/UFnyve",
      "include_colab_link": true
    },
    "kernelspec": {
      "name": "python3",
      "display_name": "Python 3"
    },
    "language_info": {
      "name": "python"
    }
  },
  "cells": [
    {
      "cell_type": "markdown",
      "metadata": {
        "id": "view-in-github",
        "colab_type": "text"
      },
      "source": [
        "<a href=\"https://colab.research.google.com/github/vivekmodgill/compute_reliable_frequencies_SSVEP/blob/main/compute_reliable_frequencies.ipynb\" target=\"_parent\"><img src=\"https://colab.research.google.com/assets/colab-badge.svg\" alt=\"Open In Colab\"/></a>"
      ]
    },
    {
      "cell_type": "markdown",
      "source": [
        "**Computing Reliable Flicker Frequencies**\n",
        "\n",
        "\n",
        "---\n",
        "<br>\n",
        "The flicker frequency of a visual stimulus on a screen is constrained by the screen’s refresh rate ( R ), meaning the stimulus can only update at discrete frame intervals. The only reliable flicker frequencies are those that are exact divisors of the refresh rate.\n",
        "\n",
        "To compute them, we use the formula:\n",
        "\n",
        "\n",
        "$$f = \\frac{R}{N}$$\n",
        "\n",
        "\n",
        "where:\n",
        "*   R  is the screen’s refresh rate (in Hz),\n",
        "\n",
        "*   N  is the number of frames per flicker cycle (must be an integer).\n",
        "<br>\n",
        "---\n",
        "<br>\n",
        "\n",
        "\n",
        "By iterating over all possible  N  values from 1 to  R , we generate all valid flicker frequencies that will be frame-locked and free of timing artifacts.\n",
        "\n",
        "This ensures that the visual stimulus remains synchronized with the screen refresh rate, which is essential for precise control in SSVEP-based experiments.\n",
        "\n",
        "Run the following to install required libraries."
      ],
      "metadata": {
        "id": "jVl75c_2XIzc"
      }
    },
    {
      "cell_type": "code",
      "source": [
        "# @title\n",
        "%%capture\n",
        "!pip install ace_tools_open;"
      ],
      "metadata": {
        "id": "6hu4XhQCXF0K",
        "cellView": "form"
      },
      "execution_count": 6,
      "outputs": []
    },
    {
      "cell_type": "code",
      "source": [
        "# @title\n",
        "import pandas as pd\n",
        "import ace_tools_open as tools\n",
        "def supported_frequencies(refresh_rate):\n",
        "    \"\"\"\n",
        "    Compute all possible flicker frequencies that can be displayed on a screen\n",
        "    with a given refresh rate.\n",
        "\n",
        "    Args:\n",
        "        refresh_rate (int or float): The screen refresh rate in Hz.\n",
        "\n",
        "    Returns:\n",
        "        list: A sorted list of possible flicker frequencies.\n",
        "    \"\"\"\n",
        "    frequencies = [refresh_rate / N for N in range(1, int(refresh_rate) + 1)]\n",
        "    return sorted(frequencies)"
      ],
      "metadata": {
        "id": "9FEzX_3NTjqy",
        "cellView": "form"
      },
      "execution_count": 7,
      "outputs": []
    },
    {
      "cell_type": "code",
      "source": [
        "refresh_rate    = 120  # Change this to your screen's refresh rate"
      ],
      "metadata": {
        "id": "X_nZ4k6zTjtM"
      },
      "execution_count": 8,
      "outputs": []
    },
    {
      "cell_type": "code",
      "source": [
        "# @title\n",
        "supported_freqs = supported_frequencies(refresh_rate)\n",
        "\n",
        "# Display the results\n",
        "df = pd.DataFrame({\n",
        "    \"N (Frames per Cycle)\": range(1, len(supported_freqs) + 1),\n",
        "    \"Flicker Frequency (Hz)\": supported_freqs\n",
        "})\n",
        "\n",
        "tools.display_dataframe_to_user(name=\"Supported Flicker Frequencies\", dataframe=df)"
      ],
      "metadata": {
        "colab": {
          "base_uri": "https://localhost:8080/",
          "height": 516
        },
        "cellView": "form",
        "id": "pEw6KBxBZ1O3",
        "outputId": "ad24529d-8d5a-47b8-a9bb-b6920d92050d"
      },
      "execution_count": 9,
      "outputs": [
        {
          "output_type": "stream",
          "name": "stdout",
          "text": [
            "Supported Flicker Frequencies\n"
          ]
        },
        {
          "output_type": "display_data",
          "data": {
            "text/plain": [
              "<IPython.core.display.HTML object>"
            ],
            "text/html": [
              "<table id=\"itables_5ee87101_ef41_4585_ad33_695dac607db9\" class=\"display nowrap\" data-quarto-disable-processing=\"true\" style=\"table-layout:auto;width:auto;margin:auto;caption-side:bottom\">\n",
              "<thead>\n",
              "    <tr style=\"text-align: right;\">\n",
              "      \n",
              "      <th>N (Frames per Cycle)</th>\n",
              "      <th>Flicker Frequency (Hz)</th>\n",
              "    </tr>\n",
              "  </thead><tbody><tr>\n",
              "<td style=\"vertical-align:middle; text-align:left\">\n",
              "<a href=https://mwouts.github.io/itables/><svg class=\"main-svg\" xmlns=\"http://www.w3.org/2000/svg\" xmlns:xlink=\"http://www.w3.org/1999/xlink\"\n",
              "width=\"64\" viewBox=\"0 0 500 400\" style=\"font-family: 'Droid Sans', sans-serif;\">\n",
              "    <g style=\"fill:#d9d7fc\">\n",
              "        <path d=\"M100,400H500V357H100Z\" />\n",
              "        <path d=\"M100,300H400V257H100Z\" />\n",
              "        <path d=\"M0,200H400V157H0Z\" />\n",
              "        <path d=\"M100,100H500V57H100Z\" />\n",
              "        <path d=\"M100,350H500V307H100Z\" />\n",
              "        <path d=\"M100,250H400V207H100Z\" />\n",
              "        <path d=\"M0,150H400V107H0Z\" />\n",
              "        <path d=\"M100,50H500V7H100Z\" />\n",
              "    </g>\n",
              "    <g style=\"fill:#1a1366;stroke:#1a1366;\">\n",
              "   <rect x=\"100\" y=\"7\" width=\"400\" height=\"43\">\n",
              "    <animate\n",
              "      attributeName=\"width\"\n",
              "      values=\"0;400;0\"\n",
              "      dur=\"5s\"\n",
              "      repeatCount=\"indefinite\" />\n",
              "      <animate\n",
              "      attributeName=\"x\"\n",
              "      values=\"100;100;500\"\n",
              "      dur=\"5s\"\n",
              "      repeatCount=\"indefinite\" />\n",
              "  </rect>\n",
              "        <rect x=\"0\" y=\"107\" width=\"400\" height=\"43\">\n",
              "    <animate\n",
              "      attributeName=\"width\"\n",
              "      values=\"0;400;0\"\n",
              "      dur=\"3.5s\"\n",
              "      repeatCount=\"indefinite\" />\n",
              "    <animate\n",
              "      attributeName=\"x\"\n",
              "      values=\"0;0;400\"\n",
              "      dur=\"3.5s\"\n",
              "      repeatCount=\"indefinite\" />\n",
              "  </rect>\n",
              "        <rect x=\"100\" y=\"207\" width=\"300\" height=\"43\">\n",
              "    <animate\n",
              "      attributeName=\"width\"\n",
              "      values=\"0;300;0\"\n",
              "      dur=\"3s\"\n",
              "      repeatCount=\"indefinite\" />\n",
              "    <animate\n",
              "      attributeName=\"x\"\n",
              "      values=\"100;100;400\"\n",
              "      dur=\"3s\"\n",
              "      repeatCount=\"indefinite\" />\n",
              "  </rect>\n",
              "        <rect x=\"100\" y=\"307\" width=\"400\" height=\"43\">\n",
              "    <animate\n",
              "      attributeName=\"width\"\n",
              "      values=\"0;400;0\"\n",
              "      dur=\"4s\"\n",
              "      repeatCount=\"indefinite\" />\n",
              "      <animate\n",
              "      attributeName=\"x\"\n",
              "      values=\"100;100;500\"\n",
              "      dur=\"4s\"\n",
              "      repeatCount=\"indefinite\" />\n",
              "  </rect>\n",
              "        <g style=\"fill:transparent;stroke-width:8; stroke-linejoin:round\" rx=\"5\">\n",
              "            <g transform=\"translate(45 50) rotate(-45)\">\n",
              "                <circle r=\"33\" cx=\"0\" cy=\"0\" />\n",
              "                <rect x=\"-8\" y=\"32\" width=\"16\" height=\"30\" />\n",
              "            </g>\n",
              "\n",
              "            <g transform=\"translate(450 152)\">\n",
              "                <polyline points=\"-15,-20 -35,-20 -35,40 25,40 25,20\" />\n",
              "                <rect x=\"-15\" y=\"-40\" width=\"60\" height=\"60\" />\n",
              "            </g>\n",
              "\n",
              "            <g transform=\"translate(50 352)\">\n",
              "                <polygon points=\"-35,-5 0,-40 35,-5\" />\n",
              "                <polygon points=\"-35,10 0,45 35,10\" />\n",
              "            </g>\n",
              "\n",
              "            <g transform=\"translate(75 250)\">\n",
              "                <polyline points=\"-30,30 -60,0 -30,-30\" />\n",
              "                <polyline points=\"0,30 -30,0 0,-30\" />\n",
              "            </g>\n",
              "\n",
              "            <g transform=\"translate(425 250) rotate(180)\">\n",
              "                <polyline points=\"-30,30 -60,0 -30,-30\" />\n",
              "                <polyline points=\"0,30 -30,0 0,-30\" />\n",
              "            </g>\n",
              "        </g>\n",
              "    </g>\n",
              "</svg>\n",
              "</a>\n",
              "Loading ITables v2.2.4 from the internet...\n",
              "(need <a href=https://mwouts.github.io/itables/troubleshooting.html>help</a>?)</td>\n",
              "</tr></tbody>\n",
              "</table>\n",
              "<link href=\"https://www.unpkg.com/dt_for_itables@2.0.13/dt_bundle.css\" rel=\"stylesheet\">\n",
              "<script type=\"module\">\n",
              "    import {DataTable, jQuery as $} from 'https://www.unpkg.com/dt_for_itables@2.0.13/dt_bundle.js';\n",
              "\n",
              "    document.querySelectorAll(\"#itables_5ee87101_ef41_4585_ad33_695dac607db9:not(.dataTable)\").forEach(table => {\n",
              "        if (!(table instanceof HTMLTableElement))\n",
              "            return;\n",
              "\n",
              "        // Define the table data\n",
              "        const data = [[1, 1.0], [2, 1.008403], [3, 1.016949], [4, 1.025641], [5, 1.034483], [6, 1.043478], [7, 1.052632], [8, 1.061947], [9, 1.071429], [10, 1.081081], [11, 1.090909], [12, 1.100917], [13, 1.111111], [14, 1.121495], [15, 1.132075], [16, 1.142857], [17, 1.153846], [18, 1.165049], [19, 1.176471], [20, 1.188119], [21, 1.2], [22, 1.212121], [23, 1.22449], [24, 1.237113], [25, 1.25], [26, 1.263158], [27, 1.276596], [28, 1.290323], [29, 1.304348], [30, 1.318681], [31, 1.333333], [32, 1.348315], [33, 1.363636], [34, 1.37931], [35, 1.395349], [36, 1.411765], [37, 1.428571], [38, 1.445783], [39, 1.463415], [40, 1.481481], [41, 1.5], [42, 1.518987], [43, 1.538462], [44, 1.558442], [45, 1.578947], [46, 1.6], [47, 1.621622], [48, 1.643836], [49, 1.666667], [50, 1.690141], [51, 1.714286], [52, 1.73913], [53, 1.764706], [54, 1.791045], [55, 1.818182], [56, 1.846154], [57, 1.875], [58, 1.904762], [59, 1.935484], [60, 1.967213], [61, 2.0], [62, 2.033898], [63, 2.068966], [64, 2.105263], [65, 2.142857], [66, 2.181818], [67, 2.222222], [68, 2.264151], [69, 2.307692], [70, 2.352941], [71, 2.4], [72, 2.44898], [73, 2.5], [74, 2.553191], [75, 2.608696], [76, 2.666667], [77, 2.727273], [78, 2.790698], [79, 2.857143], [80, 2.926829], [81, 3.0], [82, 3.076923], [83, 3.157895], [84, 3.243243], [85, 3.333333], [86, 3.428571], [87, 3.529412], [88, 3.636364], [89, 3.75], [90, 3.870968], [91, 4.0], [92, 4.137931], [93, 4.285714], [94, 4.444444], [95, 4.615385], [96, 4.8], [97, 5.0], [98, 5.217391], [99, 5.454545], [100, 5.714286], [101, 6.0], [102, 6.315789], [103, 6.666667], [104, 7.058824], [105, 7.5], [106, 8.0], [107, 8.571429], [108, 9.230769], [109, 10.0], [110, 10.909091], [111, 12.0], [112, 13.333333], [113, 15.0], [114, 17.142857], [115, 20.0], [116, 24.0], [117, 30.0], [118, 40.0], [119, 60.0], [120, 120.0]];\n",
              "\n",
              "        // Define the dt_args\n",
              "        let dt_args = {\"layout\": {\"topStart\": \"pageLength\", \"topEnd\": \"search\", \"bottomStart\": \"info\", \"bottomEnd\": \"paging\"}, \"order\": [], \"warn_on_selected_rows_not_rendered\": true};\n",
              "        dt_args[\"data\"] = data;\n",
              "\n",
              "        \n",
              "        new DataTable(table, dt_args);\n",
              "    });\n",
              "</script>\n"
            ]
          },
          "metadata": {}
        }
      ]
    }
  ]
}